{
 "cells": [
  {
   "cell_type": "markdown",
   "id": "059172ec-bcdb-4d69-9926-8eb064c6aa2a",
   "metadata": {},
   "source": [
    "### Chat with your unstructured LOGs with Llama3 and Ollama\n",
    "\n",
    "Some code inspired by Sascha Retter (https://blog.retter.jetzt/)"
   ]
  },
  {
   "attachments": {},
   "cell_type": "markdown",
   "id": "90f6911e-5d51-4438-a76c-6be0093d56fd",
   "metadata": {},
   "source": [
    "##### Chat with local Llama3 Model via Ollama in KNIME Analytics Platform — Also extract Logs into structured JSON Files\n",
    "https://medium.com/p/aca61e4a690a"
   ]
  },
  {
   "cell_type": "markdown",
   "id": "e68c8c70-cc08-43c0-8867-9d624f0219a4",
   "metadata": {},
   "source": [
    "##### Ask Questions from your CSV with an Open Source LLM, LangChain & a Vector DB\n",
    "https://www.tetranyde.com/blog/langchain-vectordb\n",
    "\n",
    "##### Document Loaders in LangChain\n",
    "https://medium.com/@varsha.rainer/document-loaders-in-langchain-7c2db9851123\n",
    "\n",
    "##### Unleashing Conversational Power: A Guide to Building Dynamic Chat Applications with LangChain, Qdrant, and Ollama (or OpenAI’s GPT-3.5 Turbo)\n",
    "https://medium.com/@ingridwickstevens/langchain-chat-with-your-data-qdrant-ollama-openai-913020ec504b\n"
   ]
  },
  {
   "cell_type": "code",
   "execution_count": 8,
   "id": "e0d60e71-b2fc-4a0b-b274-b7cb9ff452ea",
   "metadata": {},
   "outputs": [],
   "source": [
    "import os\n",
    "\n",
    "import pandas as pd\n",
    "\n",
    "# Document Loaders in LangChain\n",
    "# https://medium.com/@varsha.rainer/document-loaders-in-langchain-7c2db9851123\n",
    "from langchain_community.document_loaders import UnstructuredFileLoader\n",
    "\n",
    "from langchain.text_splitter import RecursiveCharacterTextSplitter\n",
    "\n",
    "# from langchain.vectorstores import Chroma\n",
    "from langchain_community.vectorstores import Chroma\n",
    "\n",
    "# from langchain.embeddings import HuggingFaceEmbeddings\n",
    "from langchain_community.embeddings import HuggingFaceEmbeddings\n",
    "from langchain.embeddings import OllamaEmbeddings\n",
    "from langchain.embeddings import SentenceTransformerEmbeddings\n",
    "\n",
    "# from langchain.llms import Ollama\n",
    "from langchain_community.llms import Ollama\n",
    "from langchain.callbacks.manager import CallbackManager\n",
    "from langchain.callbacks.streaming_stdout import StreamingStdOutCallbackHandler\n",
    "\n",
    "from langchain.chains import RetrievalQA\n",
    "\n",
    "embedding_model_name = \"sentence-transformers/all-MiniLM-L6-v2\" # the standard embedding model for\n",
    "model = \"llama3:instruct\" # model needs already be available, already pulled with for example 'ollama run llama3:instruct'"
   ]
  },
  {
   "cell_type": "code",
   "execution_count": 34,
   "id": "c8a38559-33a4-496a-a338-778244ae59b1",
   "metadata": {},
   "outputs": [],
   "source": [
    "# Proxy configuration\n",
    "proxy = \"http://proxy.my-company.com:8080\"  # Replace with your proxy server and port\n",
    "proxy = \"\"\n",
    "os.environ['http_proxy'] = proxy\n",
    "os.environ['https_proxy'] = proxy"
   ]
  },
  {
   "cell_type": "code",
   "execution_count": 2,
   "id": "1dc8613f-4331-4b0a-b7b2-dfb6b63df79f",
   "metadata": {},
   "outputs": [],
   "source": [
    "question = f\"What would be the best set of JSON columns to extract data from these Logfiles in a systematic way? Can you write a prompt?\""
   ]
  },
  {
   "cell_type": "code",
   "execution_count": 20,
   "id": "76b3b972-1cea-4b10-906f-e09214a187de",
   "metadata": {},
   "outputs": [],
   "source": [
    "# Define the directory containing your log files. Note: if they have .CSV endings other document loaders might be better\n",
    "log_files_directory = \"../documents/logs/\""
   ]
  },
  {
   "cell_type": "code",
   "execution_count": 21,
   "id": "0a620bdf-6b7a-485b-a3b9-cfae13c01567",
   "metadata": {},
   "outputs": [],
   "source": [
    "# List all log files in the directory\n",
    "log_files = [os.path.join(log_files_directory, f) for f in os.listdir(log_files_directory) if os.path.isfile(os.path.join(log_files_directory, f))]"
   ]
  },
  {
   "cell_type": "code",
   "execution_count": 22,
   "id": "4b4d520b-57c4-4b9b-af20-0d0e2e0c3bf3",
   "metadata": {},
   "outputs": [
    {
     "name": "stdout",
     "output_type": "stream",
     "text": [
      "['../documents/logs/logfile_01.log', '../documents/logs/logfile_02.log', '../documents/logs/logfile_03.log', '../documents/logs/logfile_04.log']\n"
     ]
    }
   ],
   "source": [
    "print(log_files)"
   ]
  },
  {
   "cell_type": "code",
   "execution_count": 23,
   "id": "2b411b6d-624c-4f47-af1e-8cea04517459",
   "metadata": {},
   "outputs": [],
   "source": [
    "# Load and embed the content of the log files\n",
    "def load_and_embed_files(file_paths):\n",
    "    documents = []\n",
    "    for file_path in file_paths:\n",
    "        loader = UnstructuredFileLoader(file_path)\n",
    "        documents.extend(loader.load())\n",
    "    return documents\n",
    "\n",
    "# Initialize the embedding model\n",
    "embedding_model = HuggingFaceEmbeddings(model_name=embedding_model_name)\n",
    "# embedding_model = SentenceTransformerEmbeddings(model_name=embedding_model_name)"
   ]
  },
  {
   "cell_type": "code",
   "execution_count": null,
   "id": "1964e823-d65f-4249-a679-be9616fcdab7",
   "metadata": {},
   "outputs": [],
   "source": [
    "# Load and embed the log files\n",
    "documents = load_and_embed_files(log_files)"
   ]
  },
  {
   "cell_type": "code",
   "execution_count": 36,
   "id": "9908d7a7-3bba-44e3-b5bc-b9723a21e0f8",
   "metadata": {},
   "outputs": [
    {
     "data": {
      "text/plain": [
       "list"
      ]
     },
     "execution_count": 36,
     "metadata": {},
     "output_type": "execute_result"
    }
   ],
   "source": [
    "type(documents)"
   ]
  },
  {
   "cell_type": "code",
   "execution_count": 26,
   "id": "cf077c85-eaf3-42fe-aa11-b762fbb9314e",
   "metadata": {},
   "outputs": [],
   "source": [
    "# Define the path to store the Chroma vector store (in SQLite format)\n",
    "v_path_vector_store = '../data/vectorstore/chroma_vector_store_logs'"
   ]
  },
  {
   "cell_type": "code",
   "execution_count": 28,
   "id": "b028eb79-0b6d-48ea-b941-e885495b6a1d",
   "metadata": {},
   "outputs": [],
   "source": [
    "# create the vector store from the documents / logs you provided\n",
    "vectorstore = Chroma.from_documents(\n",
    "    documents=documents, \n",
    "    embedding=embedding_model, \n",
    "    persist_directory=v_path_vector_store\n",
    ")"
   ]
  },
  {
   "cell_type": "markdown",
   "id": "11873841-2f99-4653-8e18-f7cb8cf07fc2",
   "metadata": {},
   "source": [
    "#### Use the stored Vector store"
   ]
  },
  {
   "cell_type": "code",
   "execution_count": 29,
   "id": "675c6cc1-cc60-4ffc-b30c-6f4450f2db74",
   "metadata": {},
   "outputs": [],
   "source": [
    "# load vectorstore from disk\n",
    "chroma_db = Chroma(persist_directory=v_path_vector_store, embedding_function=embedding_model)"
   ]
  },
  {
   "cell_type": "code",
   "execution_count": 30,
   "id": "81350b00-200c-419c-9838-5ea44914e6cb",
   "metadata": {},
   "outputs": [
    {
     "data": {
      "text/plain": [
       "langchain_community.vectorstores.chroma.Chroma"
      ]
     },
     "execution_count": 30,
     "metadata": {},
     "output_type": "execute_result"
    }
   ],
   "source": [
    "type(chroma_db)"
   ]
  },
  {
   "cell_type": "code",
   "execution_count": 31,
   "id": "2b039ebb-76bc-4598-9cd9-4bdc29a0f320",
   "metadata": {},
   "outputs": [
    {
     "name": "stdout",
     "output_type": "stream",
     "text": [
      "Loaded LLM model llama3:instruct\n"
     ]
    }
   ],
   "source": [
    "# define the LLM - if you just want the result and not see it being printed out set verbose=False\n",
    "llm = Ollama(model=model,\n",
    "            verbose=True,\n",
    "            callback_manager=CallbackManager([StreamingStdOutCallbackHandler()]))\n",
    "\n",
    "print(f\"Loaded LLM model {llm.model}\")"
   ]
  },
  {
   "cell_type": "code",
   "execution_count": 35,
   "id": "6b173f48-b692-4c39-b8f0-75f0b6961af5",
   "metadata": {},
   "outputs": [
    {
     "name": "stdout",
     "output_type": "stream",
     "text": [
      "What an interesting log file!\n",
      "\n",
      "After analyzing the logs, I've identified some relevant patterns and extracted potential JSON column names that could facilitate efficient data extraction. Here's a suggested set of columns:\n",
      "\n",
      "**Event Timestamp**: `timestamp` (UTC format)\n",
      "\n",
      "**Session ID**: `session_id` (e.g., `9.67.116.99:1047:6`)\n",
      "\n",
      "**Source IP**: `source_ip` (e.g., `9.67.116.98`)\n",
      "\n",
      "**Destination IP**: `destination_ip` (e.g., `9.67.116.99`)\n",
      "\n",
      "**Event Type**: `event_type` (e.g., `PATHDELTA`, `RESVDELTA`, etc.)\n",
      "\n",
      "**Hop Count**: `hop_count` (extracted from `RSVP_HOP` logs)\n",
      "\n",
      "**Interface ID**: `interface_id` (extracted from `rsvp_event_mapSession` logs)\n",
      "\n",
      "**Filter Installation**: `filter_installed` (Boolean value indicating whether a filter was installed or not)\n",
      "\n",
      "**QoS Request**: `qos_request` (contains information about the Quality of Service request, such as source IP, destination IP, protocol, and reservation details)\n",
      "\n",
      "Other potential columns:\n",
      "\n",
      "* `style`: The type of RSVP object (`WF` in this case)\n",
      "* `rsvp_flow_state`: The state of the RSVP flow (e.g., `SESSIONED`, `PATHED`)\n",
      "* `traffic_action`: The specific action taken on traffic (e.g., installing a filter)\n",
      "\n",
      "Prompt:\n",
      "**Extract Log Data**\n",
      "\n",
      "Using the provided log files, extract data into the following JSON columns:\n",
      "\n",
      "1. **timestamp**: Extract the timestamp from each log entry in UTC format.\n",
      "2. **session_id**: Identify and extract the session ID from each log entry.\n",
      "3. **source_ip**: Extract the source IP address from each log entry.\n",
      "4. **destination_ip**: Extract the destination IP address from each log entry.\n",
      "5. **event_type**: Categorize each log event into a specific type (e.g., `PATHDELTA`, `RESVDELTA`).\n",
      "6. **hop_count**: Count the number of hops in each RSVP object and extract it as a separate column.\n",
      "7. **interface_id**: Extract the interface ID from each log entry related to `rsvp_event_mapSession`.\n",
      "8. **filter_installed**: Indicate whether a filter was installed or not for each relevant log entry.\n",
      "9. **qos_request**: Extract information about QoS requests, including source IP, destination IP, protocol, and reservation details.\n",
      "\n",
      "Please note that this is just a suggested set of columns based on the provided log files. You may need to adjust or add more columns depending on your specific use case or analysis requirements."
     ]
    }
   ],
   "source": [
    "# Initialize the RetrievalQA chain with the vector store retriever\n",
    "retriever = chroma_db.as_retriever(search_kwargs={\"k\": 2})  # Use the number of documents to retrieve\n",
    "qa_chain = RetrievalQA.from_chain_type(\n",
    "    llm,\n",
    "    retriever=retriever,\n",
    ")\n",
    "\n",
    "# Use the 'invoke' method to handle the query\n",
    "result = qa_chain.invoke({\"query\": question})"
   ]
  },
  {
   "cell_type": "markdown",
   "id": "b475d291-6ef8-44b7-93ee-8905337d8c3e",
   "metadata": {},
   "source": [
    "#### Use the model"
   ]
  },
  {
   "cell_type": "code",
   "execution_count": 37,
   "id": "3e2053f1-ef5a-4f1c-bf7e-d1b22217cbf9",
   "metadata": {},
   "outputs": [],
   "source": [
    "llm_model = Ollama(model=model, verbose=False)  # Disable verbose for batch processing"
   ]
  },
  {
   "cell_type": "code",
   "execution_count": 45,
   "id": "542ddf19-9c62-47d5-b766-d3dab137c1e9",
   "metadata": {},
   "outputs": [],
   "source": [
    "# Define the instruction and log file prompts\n",
    "v_instruct = \"\"\"Prompt:\n",
    "**Extract Log Data**\n",
    "\n",
    "Using the provided log files, extract data into the following JSON columns:\n",
    "\n",
    "1. **timestamp**: Extract the timestamp from each log entry in UTC format.\n",
    "2. **session_id**: Identify and extract the session ID from each log entry.\n",
    "3. **source_ip**: Extract the source IP address from each log entry.\n",
    "4. **destination_ip**: Extract the destination IP address from each log entry.\n",
    "5. **event_type**: Categorize each log event into a specific type (e.g., `PATHDELTA`, `RESVDELTA`).\n",
    "6. **hop_count**: Count the number of hops in each RSVP object and extract it as a separate column.\n",
    "7. **interface_id**: Extract the interface ID from each log entry related to `rsvp_event_mapSession`.\n",
    "8. **filter_installed**: Indicate whether a filter was installed or not for each relevant log entry.\n",
    "9. **qos_request**: Extract information about QoS requests, including source IP, destination IP, protocol, and reservation details.\n",
    "\n",
    "extract all data and always use these exact structure.\n",
    "\"\"\"\n",
    "\n",
    "v_prompt = \"\"\"Here is the Log file:\n",
    "03/22 08:52:51 INFO   :..........rpapi_Reg_UnregFlow: ReadBuffer:  Entering\n",
    " \n",
    "03/22 08:52:52 INFO   :..........rpapi_Reg_UnregFlow: ReadBuffer:  Exiting\n",
    " \n",
    "03/22 08:52:52 INFO   :..........rpapi_Reg_UnregFlow: RSVPPutActionName:  Result = 0\n",
    " \n",
    "03/22 08:52:52 INFO   :..........rpapi_Reg_UnregFlow: RSVPPutActionName:  Exiting\n",
    " \n",
    "03/22 08:52:52 INFO   :..........rpapi_Reg_UnregFlow: flow[sess=9.67.116.99:1047:6, \n",
    "source=9.67.116.98:8000] registered with CLCat2\n",
    "03/22 08:52:52 EVENT  :..........qosmgr_response: RESVRESP from qosmgr, reason=0, qoshandle=8b671d0\n",
    "03/22 08:52:52 INFO   :..........qosmgr_response: src-9.67.116.98:8000 dst-9.67.116.99:1047 proto-6\n",
    "03/22 08:52:52 TRACE  :...........traffic_reader: tc response msg=1, status=1\n",
    "03/22 08:52:52 INFO   :...........traffic_reader: Reservation req successful[session=9.67.116.99:1047:6,\n",
    "source=9.67.116.98:8000, qoshd=8b671d0]\n",
    "20 \n",
    "03/22 08:52:52 TRACE  :........api_action_sender: constructing a RESV\n",
    "03/22 08:52:52 TRACE  :........flow_timer_stop: stopped T1\n",
    "03/22 08:52:52 TRACE  :........flow_timer_stop: Stop T4\n",
    "03/22 08:52:52 TRACE  :........flow_timer_start: started T1\n",
    "03/22 08:52:52 TRACE  :........flow_timer_start: Start T4\n",
    "21 \n",
    "03/22 08:52:52 TRACE  :.......rsvp_flow_stateMachine: entering state RESVED\n",
    "22 \n",
    "03/22 08:53:07 EVENT  :..mailslot_sitter: process received signal SIGALRM\n",
    "03/22 08:53:07 TRACE  :.....event_timerT1_expire: T1 expired\n",
    "03/22 08:53:07 INFO   :......router_forward_getOI: Ioctl to query route entry successful\n",
    "03/22 08:53:07 TRACE  :......router_forward_getOI:         source address:   9.67.116.98\n",
    "03/22 08:53:07 TRACE  :......router_forward_getOI:         out inf:   9.67.116.98\n",
    "03/22 08:53:07 TRACE  :......router_forward_getOI:         gateway:   0.0.0.0\n",
    "03/22 08:53:07 TRACE  :......router_forward_getOI:         route handle:   7f5251c8\n",
    "03/22 08:53:07 INFO   :......rsvp_flow_stateMachine: state RESVED, event T1OUT\n",
    "03/22 08:53:07 TRACE  :.......rsvp_action_nHop: constructing a PATH\n",
    "03/22 08:53:07 TRACE  :.......flow_timer_start: started T1\n",
    "03/22 08:53:07 TRACE  :......rsvp_flow_stateMachine: reentering state RESVED\n",
    "03/22 08:53:07 TRACE  :.......mailslot_send: sending to (9.67.116.99:0)\n",
    "\"\"\"\n",
    "\n",
    "# Combine the instruction and prompt\n",
    "combined_prompt = v_instruct + \"\\n\" + v_prompt\n",
    "\n",
    "# Print the instruction and log file prompt\n",
    "# print(v_instruct)\n",
    "# print(v_prompt)\n"
   ]
  },
  {
   "cell_type": "code",
   "execution_count": 46,
   "id": "fc97a1ba-5f4c-4bd4-b2a3-d20c00f07c9d",
   "metadata": {},
   "outputs": [],
   "source": [
    "# Use the LLM to process the combined prompt\n",
    "response = llm_model(combined_prompt)"
   ]
  },
  {
   "cell_type": "code",
   "execution_count": 47,
   "id": "fc94e95a-066e-4b43-a384-502eb75fe2fe",
   "metadata": {},
   "outputs": [
    {
     "name": "stdout",
     "output_type": "stream",
     "text": [
      "Here is the extracted data in JSON format:\n",
      "\n",
      "```\n",
      "[\n",
      "  {\n",
      "    \"timestamp\": \"2023-03-22T08:52:51Z\",\n",
      "    \"session_id\": null,\n",
      "    \"source_ip\": \"9.67.116.98\",\n",
      "    \"destination_ip\": \"9.67.116.99\",\n",
      "    \"event_type\": \"INFO\",\n",
      "    \"hop_count\": null,\n",
      "    \"interface_id\": null,\n",
      "    \"filter_installed\": null,\n",
      "    \"qos_request\": {\n",
      "      \"source_ip\": \"9.67.116.98\",\n",
      "      \"destination_ip\": \"9.67.116.99\",\n",
      "      \"protocol\": 6\n",
      "    }\n",
      "  },\n",
      "  {\n",
      "    \"timestamp\": \"2023-03-22T08:52:52Z\",\n",
      "    \"session_id\": \"9.67.116.99:1047:6\",\n",
      "    \"source_ip\": \"9.67.116.98\",\n",
      "    \"destination_ip\": \"9.67.116.99\",\n",
      "    \"event_type\": \"INFO\",\n",
      "    \"hop_count\": null,\n",
      "    \"interface_id\": null,\n",
      "    \"filter_installed\": null,\n",
      "    \"qos_request\": {\n",
      "      \"source_ip\": \"9.67.116.98\",\n",
      "      \"destination_ip\": \"9.67.116.99\",\n",
      "      \"protocol\": 6\n",
      "    }\n",
      "  },\n",
      "  {\n",
      "    \"timestamp\": \"2023-03-22T08:52:52Z\",\n",
      "    \"session_id\": null,\n",
      "    \"source_ip\": null,\n",
      "    \"destination_ip\": null,\n",
      "    \"event_type\": \"EVENT\",\n",
      "    \"hop_count\": null,\n",
      "    \"interface_id\": null,\n",
      "    \"filter_installed\": null,\n",
      "    \"qos_request\": {\n",
      "      \"source_ip\": \"9.67.116.98\",\n",
      "      \"destination_ip\": \"9.67.116.99\",\n",
      "      \"protocol\": 6\n",
      "    }\n",
      "  },\n",
      "  ...\n",
      "]\n",
      "```\n",
      "\n",
      "Note that the `session_id` column is only populated when a specific log entry mentions a session ID. Similarly, the `hop_count`, `interface_id`, and `filter_installed` columns are only populated when relevant log entries are present.\n",
      "\n",
      "The `qos_request` object contains information about QoS requests, including source IP, destination IP, protocol, and reservation details.\n"
     ]
    }
   ],
   "source": [
    "# Print the response\n",
    "print(response)"
   ]
  },
  {
   "cell_type": "code",
   "execution_count": 48,
   "id": "5b24a2e3-c14c-4141-a75d-0c91c16568da",
   "metadata": {},
   "outputs": [],
   "source": [
    "v_output_file = \"../data/llm_response.txt\""
   ]
  },
  {
   "cell_type": "code",
   "execution_count": 49,
   "id": "de6dadbe-683c-4b19-95d6-78bf3a78da1b",
   "metadata": {},
   "outputs": [],
   "source": [
    "# Save the response to a text file\n",
    "with open(v_output_file, 'w') as file:\n",
    "    file.write(response)"
   ]
  },
  {
   "cell_type": "code",
   "execution_count": null,
   "id": "3e1c0e9e-8139-4718-912a-c2bbe0cfb460",
   "metadata": {},
   "outputs": [],
   "source": []
  }
 ],
 "metadata": {
  "kernelspec": {
   "display_name": "Python 3 (ipykernel)",
   "language": "python",
   "name": "python3"
  },
  "language_info": {
   "codemirror_mode": {
    "name": "ipython",
    "version": 3
   },
   "file_extension": ".py",
   "mimetype": "text/x-python",
   "name": "python",
   "nbconvert_exporter": "python",
   "pygments_lexer": "ipython3",
   "version": "3.10.8"
  }
 },
 "nbformat": 4,
 "nbformat_minor": 5
}
