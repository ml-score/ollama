{
 "cells": [
  {
   "cell_type": "markdown",
   "id": "059172ec-bcdb-4d69-9926-8eb064c6aa2a",
   "metadata": {},
   "source": [
    "### Chat with your PDFs with Llama3 and Ollama\n",
    "\n",
    "Adapted from original Code by Sascha Retter (https://blog.retter.jetzt/)"
   ]
  },
  {
   "attachments": {},
   "cell_type": "markdown",
   "id": "90f6911e-5d51-4438-a76c-6be0093d56fd",
   "metadata": {},
   "source": [
    "##### Chat with local Llama3 Model via Ollama in KNIME Analytics Platform — Also extract Logs into structured JSON Files\n",
    "https://medium.com/p/aca61e4a690a"
   ]
  },
  {
   "cell_type": "code",
   "execution_count": 1,
   "id": "e0d60e71-b2fc-4a0b-b274-b7cb9ff452ea",
   "metadata": {},
   "outputs": [],
   "source": [
    "import os\n",
    "import pandas as pd\n",
    "\n",
    "# from langchain.document_loaders import WebBaseLoader\n",
    "from langchain_community.document_loaders import WebBaseLoader\n",
    "\n",
    "from langchain_community.document_loaders import PyPDFLoader\n",
    "from langchain.text_splitter import RecursiveCharacterTextSplitter\n",
    "\n",
    "# from langchain.vectorstores import Chroma\n",
    "from langchain_community.vectorstores import Chroma\n",
    "\n",
    "# from langchain.embeddings import HuggingFaceEmbeddings\n",
    "from langchain_community.embeddings import HuggingFaceEmbeddings\n",
    "from langchain.embeddings import OllamaEmbeddings\n",
    "\n",
    "# from langchain.llms import Ollama\n",
    "from langchain_community.llms import Ollama\n",
    "from langchain.callbacks.manager import CallbackManager\n",
    "from langchain.callbacks.streaming_stdout import StreamingStdOutCallbackHandler\n",
    "\n",
    "from langchain.chains import RetrievalQA\n",
    "\n",
    "model = \"llama3:instruct\" # model needs already be available, already pulled with for example 'ollama run llama3:instruct'"
   ]
  },
  {
   "cell_type": "code",
   "execution_count": 2,
   "id": "595f9ddb-3163-4d4a-b772-253c3124287e",
   "metadata": {},
   "outputs": [],
   "source": [
    "# Proxy configuration\n",
    "proxy = \"http://proxy.my-company.com:8080\"  # Replace with your proxy server and port\n",
    "proxy = \"\"\n",
    "os.environ['http_proxy'] = proxy\n",
    "os.environ['https_proxy'] = proxy"
   ]
  },
  {
   "cell_type": "code",
   "execution_count": 3,
   "id": "3ffa6187-63c6-47fd-8088-1d601012578a",
   "metadata": {},
   "outputs": [],
   "source": [
    "var_pdf_path = \"../documents/\""
   ]
  },
  {
   "cell_type": "code",
   "execution_count": 4,
   "id": "f097734a-d5d0-47d0-9dcf-0ecaf7552049",
   "metadata": {},
   "outputs": [
    {
     "name": "stdout",
     "output_type": "stream",
     "text": [
      "['coffee-machine-instruction-manual.pdf']\n"
     ]
    }
   ],
   "source": [
    "def list_pdfs(directory):\n",
    "    \"\"\"List all PDF files in the given directory.\"\"\"\n",
    "    # List all files in the directory\n",
    "    files = os.listdir(directory)\n",
    "    # Filter out all files that end with '.pdf'\n",
    "    pdf_files = [file for file in files if file.endswith('.pdf') and file.startswith('coffee')]\n",
    "    return pdf_files\n",
    "\n",
    "# Specify the directory to search for PDF files\n",
    "pdf_files = list_pdfs(var_pdf_path)\n",
    "print(pdf_files)\n"
   ]
  },
  {
   "cell_type": "code",
   "execution_count": 5,
   "id": "4ed5bc71-e255-42d4-a8b4-615385650d9e",
   "metadata": {},
   "outputs": [
    {
     "name": "stdout",
     "output_type": "stream",
     "text": [
      "['../documents/coffee-machine-instruction-manual.pdf']\n"
     ]
    }
   ],
   "source": [
    "def list_pdfs_with_path(directory):\n",
    "    \"\"\"List all PDF files in the given directory that start with 'coffee', including their full paths.\"\"\"\n",
    "    # List all files in the directory\n",
    "    files = os.listdir(directory)\n",
    "    # Filter out all files that end with '.pdf' and start with 'coffee'\n",
    "    pdf_files = [os.path.join(directory, file) for file in files if file.endswith('.pdf') and file.startswith('coffee')]\n",
    "    return pdf_files\n",
    "\n",
    "# Specify the directory to search for PDF files\n",
    "pdfs = list_pdfs_with_path(var_pdf_path)\n",
    "print(pdfs)\n"
   ]
  },
  {
   "cell_type": "code",
   "execution_count": 6,
   "id": "6f9e2fff-20b8-41c7-9af8-2c133e7ecc47",
   "metadata": {},
   "outputs": [
    {
     "data": {
      "text/plain": [
       "list"
      ]
     },
     "execution_count": 6,
     "metadata": {},
     "output_type": "execute_result"
    }
   ],
   "source": [
    "type(pdfs)"
   ]
  },
  {
   "cell_type": "code",
   "execution_count": 7,
   "id": "8003bbef-bccc-4227-a893-778d1ab8a284",
   "metadata": {},
   "outputs": [],
   "source": [
    "question = f\"How can I clean the coffee machine?\"\n",
    "\n",
    "all_splits = []\n",
    "text_splitter = RecursiveCharacterTextSplitter(chunk_size=500, chunk_overlap=50)"
   ]
  },
  {
   "cell_type": "code",
   "execution_count": 8,
   "id": "d5952772-36db-4152-9679-b483f3f3ddb6",
   "metadata": {},
   "outputs": [
    {
     "name": "stdout",
     "output_type": "stream",
     "text": [
      "processing: ../documents/coffee-machine-instruction-manual.pdf\n"
     ]
    }
   ],
   "source": [
    "# Load data from pdfs split the data of each pdf into chunks\n",
    "for pdf in pdfs: \n",
    "    print(f\"processing: {pdf}\") \n",
    "    loader = PyPDFLoader(pdf)\n",
    "    data = loader.load()\n",
    "    all_splits.append(text_splitter.split_documents(data))"
   ]
  },
  {
   "cell_type": "code",
   "execution_count": 9,
   "id": "2a9eaa06-6b14-4d72-b17f-b0994cd89a5d",
   "metadata": {},
   "outputs": [],
   "source": [
    "embedding_model = OllamaEmbeddings(base_url=\"http://localhost:11434\", model=model)"
   ]
  },
  {
   "cell_type": "code",
   "execution_count": null,
   "id": "7476885e-c1f2-4927-87c3-e7671268737b",
   "metadata": {},
   "outputs": [],
   "source": [
    "embedding_model_name = \"sentence-transformers/all-MiniLM-L6-v2\" # the standard embedding model for\n",
    "embedding_model = HuggingFaceEmbeddings(model_name=embedding_model_name)"
   ]
  },
  {
   "cell_type": "code",
   "execution_count": 11,
   "id": "0b4ae7ff-55ac-48cf-b529-448d2afc147a",
   "metadata": {},
   "outputs": [
    {
     "name": "stdout",
     "output_type": "stream",
     "text": [
      "Loaded documents\n"
     ]
    }
   ],
   "source": [
    "# Create embeddings and store them in the vectordb\n",
    "for split in all_splits: \n",
    "    vectorstore = Chroma.from_documents(documents=split,\n",
    "                                    embedding=embedding_model,\n",
    "                                    persist_directory=\"../data/vectorstore/coffee_machine_pdf\")\n",
    "print(f\"Loaded documents\")"
   ]
  },
  {
   "cell_type": "code",
   "execution_count": 12,
   "id": "2f6d86a0-f5b2-446f-8958-2b1242ddd51f",
   "metadata": {},
   "outputs": [
    {
     "data": {
      "text/plain": [
       "langchain_community.vectorstores.chroma.Chroma"
      ]
     },
     "execution_count": 12,
     "metadata": {},
     "output_type": "execute_result"
    }
   ],
   "source": [
    "type(vectorstore)"
   ]
  },
  {
   "cell_type": "code",
   "execution_count": 13,
   "id": "675c6cc1-cc60-4ffc-b30c-6f4450f2db74",
   "metadata": {},
   "outputs": [],
   "source": [
    "# load from disk\n",
    "vectorstore = Chroma(persist_directory=\"../data/vectorstore/coffee_machine_pdf\", embedding_function=embedding_model)"
   ]
  },
  {
   "cell_type": "code",
   "execution_count": 14,
   "id": "81350b00-200c-419c-9838-5ea44914e6cb",
   "metadata": {},
   "outputs": [
    {
     "data": {
      "text/plain": [
       "langchain_community.vectorstores.chroma.Chroma"
      ]
     },
     "execution_count": 14,
     "metadata": {},
     "output_type": "execute_result"
    }
   ],
   "source": [
    "type(vectorstore)"
   ]
  },
  {
   "cell_type": "code",
   "execution_count": 15,
   "id": "2b039ebb-76bc-4598-9cd9-4bdc29a0f320",
   "metadata": {},
   "outputs": [
    {
     "name": "stdout",
     "output_type": "stream",
     "text": [
      "Loaded LLM model llama3:instruct\n"
     ]
    }
   ],
   "source": [
    "# LLM\n",
    "llm = Ollama(model=model,\n",
    "            verbose=True,\n",
    "            callback_manager=CallbackManager([StreamingStdOutCallbackHandler()]))\n",
    "\n",
    "print(f\"Loaded LLM model {llm.model}\")"
   ]
  },
  {
   "cell_type": "code",
   "execution_count": 17,
   "id": "9042a07c-6234-47ea-a7ff-25b78e1f01d4",
   "metadata": {},
   "outputs": [
    {
     "name": "stdout",
     "output_type": "stream",
     "text": [
      "According to the provided context, cleaning the outer housing and cup warming tray requires a soft, damp cloth, followed by polishing with a soft, dry cloth. Avoid using abrasive cleansers, pads, or cloths that could scratch the surface.\n",
      "\n",
      "To clean the filter baskets and portafilter, rinse them under hot water immediately after use to remove residual coffee oils. If holes become blocked, use the pin on the end of the provided cleaning tool to unblock them. For stubborn blockages, dissolve a cleaning tablet in hot water, soak the filter basket and portafilter for about 20 minutes, and then rinse thoroughly.\n",
      "\n",
      "Note that Single Wall filter baskets are not recommended for pre-ground coffee; instead, use Dual Wall filter baskets with pre-ground coffee."
     ]
    }
   ],
   "source": [
    "# Initialize the RetrievalQA chain with the vector store retriever\n",
    "my_retriever = vectorstore.as_retriever(search_kwargs={\"k\": 3})  # Use the number of documents to retrieve\n",
    "qa_chain = RetrievalQA.from_chain_type(\n",
    "    llm,\n",
    "    retriever=my_retriever,\n",
    ")\n",
    "\n",
    "# Use the 'invoke' method to handle the query instead of '__call__'\n",
    "result = qa_chain.invoke({\"query\": question})"
   ]
  },
  {
   "cell_type": "code",
   "execution_count": null,
   "id": "fc97a1ba-5f4c-4bd4-b2a3-d20c00f07c9d",
   "metadata": {},
   "outputs": [],
   "source": [
    "# Print the result\n",
    "print(result)"
   ]
  },
  {
   "cell_type": "code",
   "execution_count": null,
   "id": "542ddf19-9c62-47d5-b766-d3dab137c1e9",
   "metadata": {},
   "outputs": [],
   "source": []
  }
 ],
 "metadata": {
  "kernelspec": {
   "display_name": "Python 3 (ipykernel)",
   "language": "python",
   "name": "python3"
  },
  "language_info": {
   "codemirror_mode": {
    "name": "ipython",
    "version": 3
   },
   "file_extension": ".py",
   "mimetype": "text/x-python",
   "name": "python",
   "nbconvert_exporter": "python",
   "pygments_lexer": "ipython3",
   "version": "3.10.8"
  }
 },
 "nbformat": 4,
 "nbformat_minor": 5
}
